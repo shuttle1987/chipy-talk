{
 "cells": [
  {
   "cell_type": "markdown",
   "metadata": {},
   "source": [
    "# Hey I'm Janis Lesinskis\n",
    "\n",
    "- www.lesinskis.com\n",
    "- https://github.com/shuttle1987\n",
    "\n",
    "I work with these two companies:\n",
    "\n",
    "![Scry Engineering](ScryLogo.png)\n",
    "    \n",
    "![Python Charmers](PCLogo.png)"
   ]
  },
  {
   "cell_type": "code",
   "execution_count": null,
   "metadata": {},
   "outputs": [],
   "source": []
  }
 ],
 "metadata": {
  "kernelspec": {
   "display_name": "Python 3",
   "language": "python",
   "name": "python3"
  },
  "language_info": {
   "codemirror_mode": {
    "name": "ipython",
    "version": 3
   },
   "file_extension": ".py",
   "mimetype": "text/x-python",
   "name": "python",
   "nbconvert_exporter": "python",
   "pygments_lexer": "ipython3",
   "version": "3.7.1"
  }
 },
 "nbformat": 4,
 "nbformat_minor": 2
}
