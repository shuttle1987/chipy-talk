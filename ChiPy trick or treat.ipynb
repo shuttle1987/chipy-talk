{
 "cells": [
  {
   "cell_type": "markdown",
   "metadata": {},
   "source": [
    "# Hey I'm Janis Lesinskis\n",
    "\n",
    "https://github.com/shuttle1987\n",
    "\n",
    "I work with these two companies:\n",
    "    \n"
   ]
  },
  {
   "cell_type": "markdown",
   "metadata": {},
   "source": [
    "## As you may have noticed I'm from Australia"
   ]
  },
  {
   "cell_type": "code",
   "execution_count": 1,
   "metadata": {},
   "outputs": [],
   "source": [
    "from importlib import reload"
   ]
  },
  {
   "cell_type": "code",
   "execution_count": 2,
   "metadata": {},
   "outputs": [
    {
     "data": {
      "text/plain": [
       "<module 'southern_hemisphere.Australia' from '/Users/janis/anaconda3/lib/python3.7/site-packages/southern_hemisphere/Australia.py'>"
      ]
     },
     "execution_count": 2,
     "metadata": {},
     "output_type": "execute_result"
    }
   ],
   "source": [
    "from southern_hemisphere import Australia\n",
    "reload(Australia)"
   ]
  },
  {
   "cell_type": "code",
   "execution_count": 3,
   "metadata": {},
   "outputs": [
    {
     "data": {
      "text/plain": [
       "['dɐɯ',\n",
       " 'sʇꞁnsǝɹ',\n",
       " 'uʍopǝpᴉsdn',\n",
       " 'ǝɹǝɥ‾pǝuᴉɟǝp‾sǝɯɐu',\n",
       " 'ǝʇɐɹǝuǝƃ',\n",
       " 'ʇsᴉꞀ',\n",
       " '‾‾pǝɥɔɐɔ‾‾',\n",
       " '‾‾suᴉʇꞁᴉnq‾‾',\n",
       " '‾‾ǝƃɐʞɔɐd‾‾',\n",
       " '‾‾ǝɯɐu‾‾',\n",
       " '‾‾ǝꞁᴉɟ‾‾',\n",
       " '‾‾ɔop‾‾',\n",
       " '‾‾ɔǝds‾‾',\n",
       " '‾‾ɹǝpɐoꞁ‾‾',\n",
       " '‾‾ɹᴉp‾‾']"
      ]
     },
     "execution_count": 3,
     "metadata": {},
     "output_type": "execute_result"
    }
   ],
   "source": [
    "dir(Australia)"
   ]
  },
  {
   "cell_type": "code",
   "execution_count": 4,
   "metadata": {},
   "outputs": [],
   "source": [
    "import southern_hemisphere"
   ]
  },
  {
   "cell_type": "code",
   "execution_count": 5,
   "metadata": {},
   "outputs": [
    {
     "data": {
      "text/plain": [
       "['dɐɯ',\n",
       " 'sʇꞁnsǝɹ',\n",
       " 'uʍopǝpᴉsdn',\n",
       " 'ǝɹǝɥ‾pǝuᴉɟǝp‾sǝɯɐu',\n",
       " 'ǝʇɐɹǝuǝƃ',\n",
       " 'ʇsᴉꞀ',\n",
       " '‾‾pǝɥɔɐɔ‾‾',\n",
       " '‾‾suᴉʇꞁᴉnq‾‾',\n",
       " '‾‾ǝƃɐʞɔɐd‾‾',\n",
       " '‾‾ǝɯɐu‾‾',\n",
       " '‾‾ǝꞁᴉɟ‾‾',\n",
       " '‾‾ɔop‾‾',\n",
       " '‾‾ɔǝds‾‾',\n",
       " '‾‾ɹǝpɐoꞁ‾‾',\n",
       " '‾‾ɹᴉp‾‾']"
      ]
     },
     "execution_count": 5,
     "metadata": {},
     "output_type": "execute_result"
    }
   ],
   "source": [
    "dir(southern_hemisphere.Australia)"
   ]
  },
  {
   "cell_type": "markdown",
   "metadata": {},
   "source": [
    "## Anyway isn't this talk supposed to be about trick or treating?"
   ]
  },
  {
   "cell_type": "code",
   "execution_count": 6,
   "metadata": {},
   "outputs": [
    {
     "data": {
      "text/plain": [
       "1"
      ]
     },
     "execution_count": 6,
     "metadata": {},
     "output_type": "execute_result"
    }
   ],
   "source": [
    "import random\n",
    "random.choice([0,1])"
   ]
  },
  {
   "cell_type": "code",
   "execution_count": 7,
   "metadata": {},
   "outputs": [],
   "source": [
    "def trick_or_treat():\n",
    "    \"\"\"Trick or treat?\"\"\"\n",
    "    import random\n",
    "    if random.choice([0,1]) == 0:\n",
    "        return \"treat\"\n",
    "    else:\n",
    "        return \"trick\""
   ]
  },
  {
   "cell_type": "code",
   "execution_count": 8,
   "metadata": {},
   "outputs": [
    {
     "data": {
      "text/plain": [
       "'treat'"
      ]
     },
     "execution_count": 8,
     "metadata": {},
     "output_type": "execute_result"
    }
   ],
   "source": [
    "trick_or_treat()"
   ]
  },
  {
   "cell_type": "markdown",
   "metadata": {},
   "source": [
    "## This is kinda boring though!"
   ]
  },
  {
   "cell_type": "code",
   "execution_count": 9,
   "metadata": {},
   "outputs": [
    {
     "ename": "SyntaxError",
     "evalue": "invalid syntax (halloween.py, line 18)",
     "output_type": "error",
     "traceback": [
      "Traceback \u001b[0;36m(most recent call last)\u001b[0m:\n",
      "  File \u001b[1;32m\"/Users/janis/anaconda3/lib/python3.7/site-packages/IPython/core/interactiveshell.py\"\u001b[0m, line \u001b[1;32m3267\u001b[0m, in \u001b[1;35mrun_code\u001b[0m\n    exec(code_obj, self.user_global_ns, self.user_ns)\n",
      "\u001b[0;36m  File \u001b[0;32m\"<ipython-input-9-2735d9a7b319>\"\u001b[0;36m, line \u001b[0;32m1\u001b[0;36m, in \u001b[0;35m<module>\u001b[0;36m\u001b[0m\n\u001b[0;31m    import halloween\u001b[0m\n",
      "\u001b[0;36m  File \u001b[0;32m\"/Users/janis/chipy-talk/halloween.py\"\u001b[0;36m, line \u001b[0;32m18\u001b[0m\n\u001b[0;31m    nonlocal australia_called += 1\u001b[0m\n\u001b[0m                               ^\u001b[0m\n\u001b[0;31mSyntaxError\u001b[0m\u001b[0;31m:\u001b[0m invalid syntax\n"
     ]
    }
   ],
   "source": [
    "import halloween\n",
    "reload(halloween)\n",
    "from halloween import halloween_ize"
   ]
  },
  {
   "cell_type": "code",
   "execution_count": null,
   "metadata": {},
   "outputs": [],
   "source": [
    "@halloween.halloween_ize\n",
    "def trick_or_treat():\n",
    "    \"\"\"Trick or treat?\"\"\"\n",
    "    import random\n",
    "    if random.choice([0,1]) == 0:\n",
    "        return \"treat\"\n",
    "    else:\n",
    "        return \"trick\""
   ]
  },
  {
   "cell_type": "code",
   "execution_count": null,
   "metadata": {},
   "outputs": [],
   "source": [
    "trick_or_treat()"
   ]
  },
  {
   "cell_type": "markdown",
   "metadata": {},
   "source": [
    "## How did this work?"
   ]
  },
  {
   "cell_type": "code",
   "execution_count": null,
   "metadata": {},
   "outputs": [],
   "source": [
    "halloween.halloween_ize."
   ]
  },
  {
   "cell_type": "markdown",
   "metadata": {},
   "source": [
    "## But what about back in Australia?"
   ]
  },
  {
   "cell_type": "code",
   "execution_count": null,
   "metadata": {},
   "outputs": [],
   "source": [
    "from southern_hemisphere import travel_to"
   ]
  },
  {
   "cell_type": "code",
   "execution_count": null,
   "metadata": {},
   "outputs": [],
   "source": [
    "import location"
   ]
  },
  {
   "cell_type": "code",
   "execution_count": null,
   "metadata": {},
   "outputs": [],
   "source": [
    "location.current_location = \"New\""
   ]
  },
  {
   "cell_type": "code",
   "execution_count": null,
   "metadata": {},
   "outputs": [],
   "source": [
    "trick_or_treat()"
   ]
  },
  {
   "cell_type": "code",
   "execution_count": null,
   "metadata": {},
   "outputs": [],
   "source": []
  }
 ],
 "metadata": {
  "kernelspec": {
   "display_name": "Python 3",
   "language": "python",
   "name": "python3"
  },
  "language_info": {
   "codemirror_mode": {
    "name": "ipython",
    "version": 3
   },
   "file_extension": ".py",
   "mimetype": "text/x-python",
   "name": "python",
   "nbconvert_exporter": "python",
   "pygments_lexer": "ipython3",
   "version": "3.7.1"
  }
 },
 "nbformat": 4,
 "nbformat_minor": 2
}
