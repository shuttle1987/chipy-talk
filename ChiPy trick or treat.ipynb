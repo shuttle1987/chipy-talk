{
 "cells": [
  {
   "cell_type": "markdown",
   "metadata": {},
   "source": [
    "# Hey I'm Janis Lesinskis\n",
    "\n",
    "https://github.com/shuttle1987\n",
    "\n",
    "I work with these two companies:\n",
    "\n",
    "![Scry Engineering](ScryLogo.png)\n",
    "    \n"
   ]
  },
  {
   "cell_type": "markdown",
   "metadata": {},
   "source": [
    "## As you may have noticed I'm from Australia"
   ]
  },
  {
   "cell_type": "code",
   "execution_count": 17,
   "metadata": {},
   "outputs": [],
   "source": [
    "from southern_hemisphere import Australia"
   ]
  },
  {
   "cell_type": "code",
   "execution_count": 3,
   "metadata": {},
   "outputs": [
    {
     "data": {
      "text/plain": [
       "['dɐɯ',\n",
       " 'sǝɯɐu‾ʇǝɹɔǝs',\n",
       " 'sʇꞁnsǝɹ',\n",
       " 'ǝɹǝɥ‾pǝuᴉɟǝp‾sǝɯɐu',\n",
       " 'ǝʇɐɹǝuǝƃ',\n",
       " 'ʇsᴉꞀ',\n",
       " '‾‾pǝɥɔɐɔ‾‾',\n",
       " '‾‾suᴉʇꞁᴉnq‾‾',\n",
       " '‾‾ǝƃɐʞɔɐd‾‾',\n",
       " '‾‾ǝɯɐu‾‾',\n",
       " '‾‾ǝꞁᴉɟ‾‾',\n",
       " '‾‾ɔop‾‾',\n",
       " '‾‾ɔǝds‾‾',\n",
       " '‾‾ɹǝpɐoꞁ‾‾',\n",
       " '‾‾ɹᴉp‾‾']"
      ]
     },
     "execution_count": 3,
     "metadata": {},
     "output_type": "execute_result"
    }
   ],
   "source": [
    "dir(Australia)"
   ]
  },
  {
   "cell_type": "code",
   "execution_count": 4,
   "metadata": {},
   "outputs": [],
   "source": [
    "import southern_hemisphere"
   ]
  },
  {
   "cell_type": "code",
   "execution_count": 5,
   "metadata": {},
   "outputs": [
    {
     "data": {
      "text/plain": [
       "['dɐɯ',\n",
       " 'sǝɯɐu‾ʇǝɹɔǝs',\n",
       " 'sʇꞁnsǝɹ',\n",
       " 'ǝɹǝɥ‾pǝuᴉɟǝp‾sǝɯɐu',\n",
       " 'ǝʇɐɹǝuǝƃ',\n",
       " 'ʇsᴉꞀ',\n",
       " '‾‾pǝɥɔɐɔ‾‾',\n",
       " '‾‾suᴉʇꞁᴉnq‾‾',\n",
       " '‾‾ǝƃɐʞɔɐd‾‾',\n",
       " '‾‾ǝɯɐu‾‾',\n",
       " '‾‾ǝꞁᴉɟ‾‾',\n",
       " '‾‾ɔop‾‾',\n",
       " '‾‾ɔǝds‾‾',\n",
       " '‾‾ɹǝpɐoꞁ‾‾',\n",
       " '‾‾ɹᴉp‾‾']"
      ]
     },
     "execution_count": 5,
     "metadata": {},
     "output_type": "execute_result"
    }
   ],
   "source": [
    "dir(southern_hemisphere.Australia)"
   ]
  },
  {
   "cell_type": "markdown",
   "metadata": {},
   "source": [
    "## Anyway isn't this talk supposed to be about trick or treating?"
   ]
  },
  {
   "cell_type": "code",
   "execution_count": 6,
   "metadata": {},
   "outputs": [
    {
     "data": {
      "text/plain": [
       "1"
      ]
     },
     "execution_count": 6,
     "metadata": {},
     "output_type": "execute_result"
    }
   ],
   "source": [
    "import random\n",
    "random.choice([0,1])"
   ]
  },
  {
   "cell_type": "code",
   "execution_count": 7,
   "metadata": {},
   "outputs": [],
   "source": [
    "def trick_or_treat():\n",
    "    \"\"\"Trick or treat?\"\"\"\n",
    "    import random\n",
    "    if random.choice([0,1]) == 0:\n",
    "        return \"treat\"\n",
    "    else:\n",
    "        return \"trick\""
   ]
  },
  {
   "cell_type": "code",
   "execution_count": 8,
   "metadata": {},
   "outputs": [
    {
     "data": {
      "text/plain": [
       "'trick'"
      ]
     },
     "execution_count": 8,
     "metadata": {},
     "output_type": "execute_result"
    }
   ],
   "source": [
    "trick_or_treat()"
   ]
  },
  {
   "cell_type": "markdown",
   "metadata": {},
   "source": [
    "## This is kinda boring though!"
   ]
  },
  {
   "cell_type": "code",
   "execution_count": 9,
   "metadata": {},
   "outputs": [],
   "source": [
    "from halloween import halloween_ize"
   ]
  },
  {
   "cell_type": "code",
   "execution_count": 10,
   "metadata": {},
   "outputs": [
    {
     "name": "stdout",
     "output_type": "stream",
     "text": [
      "Help on function halloween_ize in module halloween:\n",
      "\n",
      "halloween_ize(spooky)\n",
      "    Make it more Halloween!\n",
      "\n"
     ]
    }
   ],
   "source": [
    "help(halloween_ize)"
   ]
  },
  {
   "cell_type": "code",
   "execution_count": 15,
   "metadata": {},
   "outputs": [],
   "source": [
    "@halloween.halloween_ize\n",
    "def trick_or_treat():\n",
    "    \"\"\"Trick or treat?\"\"\"\n",
    "    import random\n",
    "    if random.choice([0,1]) == 0:\n",
    "        return \"treat\"\n",
    "    else:\n",
    "        return \"trick\""
   ]
  },
  {
   "cell_type": "code",
   "execution_count": 16,
   "metadata": {
    "scrolled": true
   },
   "outputs": [
    {
     "ename": "HalloweenException",
     "evalue": "🎃🎃🎃 Pumpkins aren't in season in Australia now... 🎃🎃🎃",
     "output_type": "error",
     "traceback": [
      "\u001b[0;31m---------------------------------------------------------------------------\u001b[0m",
      "\u001b[0;31mHalloweenException\u001b[0m                        Traceback (most recent call last)",
      "\u001b[0;32m<ipython-input-16-43aaae0e9bbd>\u001b[0m in \u001b[0;36m<module>\u001b[0;34m\u001b[0m\n\u001b[0;32m----> 1\u001b[0;31m \u001b[0mtrick_or_treat\u001b[0m\u001b[0;34m(\u001b[0m\u001b[0;34m)\u001b[0m\u001b[0;34m\u001b[0m\u001b[0;34m\u001b[0m\u001b[0m\n\u001b[0m",
      "\u001b[0;32m~/chipy-talk/halloween.py\u001b[0m in \u001b[0;36mmore_halloween\u001b[0;34m(*args, **kwargs)\u001b[0m\n\u001b[1;32m     21\u001b[0m             \u001b[0maustralia_called\u001b[0m \u001b[0;34m+=\u001b[0m \u001b[0;36m1\u001b[0m\u001b[0;34m\u001b[0m\u001b[0;34m\u001b[0m\u001b[0m\n\u001b[1;32m     22\u001b[0m             \u001b[0;32mif\u001b[0m \u001b[0maustralia_called\u001b[0m \u001b[0;34m==\u001b[0m \u001b[0;36m1\u001b[0m\u001b[0;34m:\u001b[0m\u001b[0;34m\u001b[0m\u001b[0;34m\u001b[0m\u001b[0m\n\u001b[0;32m---> 23\u001b[0;31m                 \u001b[0;32mraise\u001b[0m \u001b[0mHalloweenException\u001b[0m\u001b[0;34m(\u001b[0m\u001b[0;34m\"🎃🎃🎃 Pumpkins aren't in season in Australia now... 🎃🎃🎃\"\u001b[0m\u001b[0;34m)\u001b[0m\u001b[0;34m\u001b[0m\u001b[0;34m\u001b[0m\u001b[0m\n\u001b[0m\u001b[1;32m     24\u001b[0m             \u001b[0;32melif\u001b[0m \u001b[0maustralia_called\u001b[0m \u001b[0;34m==\u001b[0m \u001b[0;36m2\u001b[0m\u001b[0;34m:\u001b[0m\u001b[0;34m\u001b[0m\u001b[0;34m\u001b[0m\u001b[0m\n\u001b[1;32m     25\u001b[0m                 raise HalloweenException(\"Seems like you still really want to celebrate Halloween in Australia, \"\n",
      "\u001b[0;31mHalloweenException\u001b[0m: 🎃🎃🎃 Pumpkins aren't in season in Australia now... 🎃🎃🎃"
     ]
    }
   ],
   "source": [
    "trick_or_treat()"
   ]
  },
  {
   "cell_type": "markdown",
   "metadata": {},
   "source": [
    "## But what about getting more tricks or treats?"
   ]
  },
  {
   "cell_type": "code",
   "execution_count": null,
   "metadata": {},
   "outputs": [],
   "source": []
  },
  {
   "cell_type": "markdown",
   "metadata": {},
   "source": [
    "## But what about back in Australia?"
   ]
  },
  {
   "cell_type": "code",
   "execution_count": null,
   "metadata": {},
   "outputs": [],
   "source": [
    "from southern_hemisphere import travel_to"
   ]
  },
  {
   "cell_type": "code",
   "execution_count": null,
   "metadata": {},
   "outputs": [],
   "source": [
    "travel_to(\"Australia\")"
   ]
  },
  {
   "cell_type": "code",
   "execution_count": null,
   "metadata": {},
   "outputs": [],
   "source": [
    "trick_or_treat()"
   ]
  },
  {
   "cell_type": "code",
   "execution_count": null,
   "metadata": {},
   "outputs": [],
   "source": []
  }
 ],
 "metadata": {
  "kernelspec": {
   "display_name": "Python 3",
   "language": "python",
   "name": "python3"
  },
  "language_info": {
   "codemirror_mode": {
    "name": "ipython",
    "version": 3
   },
   "file_extension": ".py",
   "mimetype": "text/x-python",
   "name": "python",
   "nbconvert_exporter": "python",
   "pygments_lexer": "ipython3",
   "version": "3.7.1"
  }
 },
 "nbformat": 4,
 "nbformat_minor": 2
}
