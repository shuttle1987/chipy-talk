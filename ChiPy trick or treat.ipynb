{
 "cells": [
  {
   "cell_type": "markdown",
   "metadata": {},
   "source": [
    "# Hey I'm Janis Lesinskis\n",
    "\n",
    "https://github.com/shuttle1987\n",
    "\n",
    "I work with these two companies:\n",
    "    \n"
   ]
  },
  {
   "cell_type": "markdown",
   "metadata": {},
   "source": [
    "## As you may have noticed I'm from Australia"
   ]
  },
  {
   "cell_type": "code",
   "execution_count": 1,
   "metadata": {},
   "outputs": [],
   "source": [
    "from importlib import reload"
   ]
  },
  {
   "cell_type": "code",
   "execution_count": 2,
   "metadata": {},
   "outputs": [
    {
     "data": {
      "text/plain": [
       "<module 'southern_hemisphere.Australia' from '/Users/janis/anaconda3/lib/python3.7/site-packages/southern_hemisphere/Australia.py'>"
      ]
     },
     "execution_count": 2,
     "metadata": {},
     "output_type": "execute_result"
    }
   ],
   "source": [
    "from southern_hemisphere import Australia\n",
    "reload(Australia)"
   ]
  },
  {
   "cell_type": "code",
   "execution_count": 3,
   "metadata": {},
   "outputs": [
    {
     "data": {
      "text/plain": [
       "['dɐɯ',\n",
       " 'sʇꞁnsǝɹ',\n",
       " 'uʍopǝpᴉsdn',\n",
       " 'ǝɹǝɥ‾pǝuᴉɟǝp‾sǝɯɐu',\n",
       " 'ǝʇɐɹǝuǝƃ',\n",
       " 'ʇsᴉꞀ',\n",
       " '‾‾pǝɥɔɐɔ‾‾',\n",
       " '‾‾suᴉʇꞁᴉnq‾‾',\n",
       " '‾‾ǝƃɐʞɔɐd‾‾',\n",
       " '‾‾ǝɯɐu‾‾',\n",
       " '‾‾ǝꞁᴉɟ‾‾',\n",
       " '‾‾ɔop‾‾',\n",
       " '‾‾ɔǝds‾‾',\n",
       " '‾‾ɹǝpɐoꞁ‾‾',\n",
       " '‾‾ɹᴉp‾‾']"
      ]
     },
     "execution_count": 3,
     "metadata": {},
     "output_type": "execute_result"
    }
   ],
   "source": [
    "dir(Australia)"
   ]
  },
  {
   "cell_type": "code",
   "execution_count": 4,
   "metadata": {},
   "outputs": [],
   "source": [
    "import southern_hemisphere"
   ]
  },
  {
   "cell_type": "code",
   "execution_count": 5,
   "metadata": {},
   "outputs": [
    {
     "data": {
      "text/plain": [
       "['dɐɯ',\n",
       " 'sʇꞁnsǝɹ',\n",
       " 'uʍopǝpᴉsdn',\n",
       " 'ǝɹǝɥ‾pǝuᴉɟǝp‾sǝɯɐu',\n",
       " 'ǝʇɐɹǝuǝƃ',\n",
       " 'ʇsᴉꞀ',\n",
       " '‾‾pǝɥɔɐɔ‾‾',\n",
       " '‾‾suᴉʇꞁᴉnq‾‾',\n",
       " '‾‾ǝƃɐʞɔɐd‾‾',\n",
       " '‾‾ǝɯɐu‾‾',\n",
       " '‾‾ǝꞁᴉɟ‾‾',\n",
       " '‾‾ɔop‾‾',\n",
       " '‾‾ɔǝds‾‾',\n",
       " '‾‾ɹǝpɐoꞁ‾‾',\n",
       " '‾‾ɹᴉp‾‾']"
      ]
     },
     "execution_count": 5,
     "metadata": {},
     "output_type": "execute_result"
    }
   ],
   "source": [
    "dir(southern_hemisphere.Australia)"
   ]
  },
  {
   "cell_type": "markdown",
   "metadata": {},
   "source": [
    "## Anyway isn't this talk supposed to be about trick or treating?"
   ]
  },
  {
   "cell_type": "code",
   "execution_count": 6,
   "metadata": {},
   "outputs": [
    {
     "data": {
      "text/plain": [
       "1"
      ]
     },
     "execution_count": 6,
     "metadata": {},
     "output_type": "execute_result"
    }
   ],
   "source": [
    "import random\n",
    "random.choice([0,1])"
   ]
  },
  {
   "cell_type": "code",
   "execution_count": 7,
   "metadata": {},
   "outputs": [],
   "source": [
    "def trick_or_treat():\n",
    "    \"\"\"Trick or treat?\"\"\"\n",
    "    import random\n",
    "    if random.choice([0,1]) == 0:\n",
    "        return \"treat\"\n",
    "    else:\n",
    "        return \"trick\""
   ]
  },
  {
   "cell_type": "code",
   "execution_count": 8,
   "metadata": {},
   "outputs": [
    {
     "data": {
      "text/plain": [
       "'treat'"
      ]
     },
     "execution_count": 8,
     "metadata": {},
     "output_type": "execute_result"
    }
   ],
   "source": [
    "trick_or_treat()"
   ]
  },
  {
   "cell_type": "markdown",
   "metadata": {},
   "source": [
    "## This is kinda boring though!"
   ]
  },
  {
   "cell_type": "code",
   "execution_count": 9,
   "metadata": {},
   "outputs": [],
   "source": [
    "import halloween\n",
    "reload(halloween)\n",
    "from halloween import halloween_ize"
   ]
  },
  {
   "cell_type": "code",
   "execution_count": 22,
   "metadata": {},
   "outputs": [
    {
     "name": "stdout",
     "output_type": "stream",
     "text": [
      "Help on function halloween_ize in module halloween:\n",
      "\n",
      "halloween_ize(func)\n",
      "\n"
     ]
    }
   ],
   "source": [
    "help(halloween_ize)"
   ]
  },
  {
   "cell_type": "code",
   "execution_count": 10,
   "metadata": {},
   "outputs": [],
   "source": [
    "@halloween.halloween_ize\n",
    "def trick_or_treat():\n",
    "    \"\"\"Trick or treat?\"\"\"\n",
    "    import random\n",
    "    if random.choice([0,1]) == 0:\n",
    "        return \"treat\"\n",
    "    else:\n",
    "        return \"trick\""
   ]
  },
  {
   "cell_type": "code",
   "execution_count": 14,
   "metadata": {
    "scrolled": true
   },
   "outputs": [
    {
     "name": "stdout",
     "output_type": "stream",
     "text": [
      "trick_or_treat was called\n"
     ]
    },
    {
     "data": {
      "text/plain": [
       "'🦘🦘🦘🕸️ 🦇 👻 trick🕸️ 🦇 👻 🦘🦘🦘'"
      ]
     },
     "execution_count": 14,
     "metadata": {},
     "output_type": "execute_result"
    }
   ],
   "source": [
    "trick_or_treat()"
   ]
  },
  {
   "cell_type": "markdown",
   "metadata": {},
   "source": [
    "## But what about getting more tricks or treats?"
   ]
  },
  {
   "cell_type": "code",
   "execution_count": null,
   "metadata": {},
   "outputs": [],
   "source": []
  },
  {
   "cell_type": "markdown",
   "metadata": {},
   "source": [
    "## But what about back in Australia?"
   ]
  },
  {
   "cell_type": "code",
   "execution_count": 19,
   "metadata": {},
   "outputs": [
    {
     "ename": "ImportError",
     "evalue": "cannot import name 'travel_to' from 'southern_hemisphere' (/Users/janis/anaconda3/lib/python3.7/site-packages/southern_hemisphere/__init__.py)",
     "output_type": "error",
     "traceback": [
      "\u001b[0;31m---------------------------------------------------------------------------\u001b[0m",
      "\u001b[0;31mImportError\u001b[0m                               Traceback (most recent call last)",
      "\u001b[0;32m<ipython-input-19-6bae8ef5d580>\u001b[0m in \u001b[0;36m<module>\u001b[0;34m\u001b[0m\n\u001b[0;32m----> 1\u001b[0;31m \u001b[0;32mfrom\u001b[0m \u001b[0msouthern_hemisphere\u001b[0m \u001b[0;32mimport\u001b[0m \u001b[0mtravel_to\u001b[0m\u001b[0;34m\u001b[0m\u001b[0;34m\u001b[0m\u001b[0m\n\u001b[0m",
      "\u001b[0;31mImportError\u001b[0m: cannot import name 'travel_to' from 'southern_hemisphere' (/Users/janis/anaconda3/lib/python3.7/site-packages/southern_hemisphere/__init__.py)"
     ]
    }
   ],
   "source": [
    "from southern_hemisphere import travel_to"
   ]
  },
  {
   "cell_type": "code",
   "execution_count": 20,
   "metadata": {},
   "outputs": [
    {
     "ename": "NameError",
     "evalue": "name 'travel_to' is not defined",
     "output_type": "error",
     "traceback": [
      "\u001b[0;31m---------------------------------------------------------------------------\u001b[0m",
      "\u001b[0;31mNameError\u001b[0m                                 Traceback (most recent call last)",
      "\u001b[0;32m<ipython-input-20-8107736f5305>\u001b[0m in \u001b[0;36m<module>\u001b[0;34m\u001b[0m\n\u001b[0;32m----> 1\u001b[0;31m \u001b[0mtravel_to\u001b[0m\u001b[0;34m(\u001b[0m\u001b[0;34m\"Australia\"\u001b[0m\u001b[0;34m)\u001b[0m\u001b[0;34m\u001b[0m\u001b[0;34m\u001b[0m\u001b[0m\n\u001b[0m",
      "\u001b[0;31mNameError\u001b[0m: name 'travel_to' is not defined"
     ]
    }
   ],
   "source": [
    "travel_to(\"Australia\")"
   ]
  },
  {
   "cell_type": "code",
   "execution_count": null,
   "metadata": {},
   "outputs": [],
   "source": [
    "location.current_location = \"New\""
   ]
  },
  {
   "cell_type": "code",
   "execution_count": null,
   "metadata": {},
   "outputs": [],
   "source": [
    "trick_or_treat()"
   ]
  },
  {
   "cell_type": "code",
   "execution_count": null,
   "metadata": {},
   "outputs": [],
   "source": []
  }
 ],
 "metadata": {
  "kernelspec": {
   "display_name": "Python 3",
   "language": "python",
   "name": "python3"
  },
  "language_info": {
   "codemirror_mode": {
    "name": "ipython",
    "version": 3
   },
   "file_extension": ".py",
   "mimetype": "text/x-python",
   "name": "python",
   "nbconvert_exporter": "python",
   "pygments_lexer": "ipython3",
   "version": "3.7.1"
  }
 },
 "nbformat": 4,
 "nbformat_minor": 2
}
